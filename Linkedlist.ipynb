{
 "cells": [
  {
   "cell_type": "code",
   "execution_count": 2,
   "metadata": {},
   "outputs": [
    {
     "name": "stdout",
     "output_type": "stream",
     "text": [
      "banana-->blueberry-->grapes-->orange\n",
      "45-->7-->12-->567-->99-->67\n"
     ]
    }
   ],
   "source": [
    "class Node:\n",
    "    def __init__(self,data=None,next=None):\n",
    "        self.data=data\n",
    "        self.next=next\n",
    "\n",
    "class LinkedList:\n",
    "    def __init__(self):\n",
    "        self.head=None\n",
    "\n",
    "    def print(self):\n",
    "        if self.head is None:\n",
    "            print(\"Linkedlist is empty\")\n",
    "            return\n",
    "        itr=self.head\n",
    "        llstr=''\n",
    "        while itr:\n",
    "            llstr+=str(itr.data)+\"-->\" if itr.next else str(itr.data)\n",
    "            itr=itr.next\n",
    "        print(llstr)\n",
    "    def get_length(self):\n",
    "        count = 0\n",
    "        itr = self.head\n",
    "        while itr:\n",
    "            count+=1\n",
    "            itr = itr.next\n",
    "\n",
    "        return count\n",
    "\n",
    "    def insert_at_begining(self, data):\n",
    "        node = Node(data, self.head)\n",
    "        self.head = node\n",
    "\n",
    "    def insert_at_end(self, data):\n",
    "        if self.head is None:\n",
    "            self.head = Node(data, None)\n",
    "            return\n",
    "\n",
    "        itr = self.head\n",
    "\n",
    "        while itr.next:\n",
    "            itr = itr.next\n",
    "\n",
    "        itr.next = Node(data, None)\n",
    "\n",
    "    def insert_at(self, index, data):\n",
    "        if index<0 or index>self.get_length():\n",
    "            raise Exception(\"Invalid Index\")\n",
    "\n",
    "        if index==0:\n",
    "            self.insert_at_begining(data)\n",
    "            return\n",
    "\n",
    "        count = 0\n",
    "        itr = self.head\n",
    "        while itr:\n",
    "            if count == index - 1:\n",
    "                node = Node(data, itr.next)\n",
    "                itr.next = node\n",
    "                break\n",
    "\n",
    "            itr = itr.next\n",
    "            count += 1\n",
    "\n",
    "    def remove_at(self, index):\n",
    "        if index<0 or index>=self.get_length():\n",
    "            raise Exception(\"Invalid Index\")\n",
    "\n",
    "        if index==0:\n",
    "            self.head = self.head.next\n",
    "            return\n",
    "\n",
    "        count = 0\n",
    "        itr = self.head\n",
    "        while itr:\n",
    "            if count == index - 1:\n",
    "                itr.next = itr.next.next\n",
    "                break\n",
    "\n",
    "            itr = itr.next\n",
    "            count+=1\n",
    "\n",
    "    def insert_values(self, data_list):\n",
    "        self.head = None\n",
    "        for data in data_list:\n",
    "            self.insert_at_end(data)\n",
    "\n",
    "\n",
    "if __name__ == '__main__':\n",
    "    ll = LinkedList()\n",
    "    ll.insert_values([\"banana\",\"mango\",\"grapes\",\"orange\"])\n",
    "    ll.insert_at(1,\"blueberry\")\n",
    "    ll.remove_at(2)\n",
    "    ll.print()\n",
    "\n",
    "    ll.insert_values([45,7,12,567,99])\n",
    "    ll.insert_at_end(67)\n",
    "    ll.print()"
   ]
  },
  {
   "cell_type": "markdown",
   "metadata": {},
   "source": [
    "# Simple Break down"
   ]
  },
  {
   "cell_type": "markdown",
   "metadata": {},
   "source": [
    "## initializing Node  --> node class"
   ]
  },
  {
   "cell_type": "code",
   "execution_count": 1,
   "metadata": {},
   "outputs": [],
   "source": [
    "class Node:\n",
    "    def __init__(self,data=None):\n",
    "        self.data=data\n",
    "        self.next=None\n",
    "        "
   ]
  },
  {
   "cell_type": "code",
   "execution_count": 4,
   "metadata": {},
   "outputs": [],
   "source": [
    "class LinkedList:\n",
    "    def __init__(self): # initiates when class object created\n",
    "        self.head=Node() \n",
    "\n",
    "    def append(self,data):\n",
    "        new_node=Node(data) # creates a node with data\n",
    "        curr=self.head # temporary var for  head\n",
    "        while curr.next!=None: # moving forward until end of node\n",
    "            curr=curr.next # changing current node to next node\n",
    "        curr.next=new_node # adding new node to end of LinkedList\n",
    "        print(\"node added\",curr.next.data)"
   ]
  },
  {
   "cell_type": "code",
   "execution_count": 5,
   "metadata": {},
   "outputs": [
    {
     "name": "stdout",
     "output_type": "stream",
     "text": [
      "node added 23\n"
     ]
    }
   ],
   "source": [
    "ll=LinkedList()\n",
    "ll.append(23)"
   ]
  },
  {
   "cell_type": "code",
   "execution_count": null,
   "metadata": {},
   "outputs": [],
   "source": [
    "class LinkedList:\n",
    "    def __init__(self): # initiates when class object created\n",
    "        self.head=Node() \n",
    "\n",
    "    def append(self,data):\n",
    "        new_node=Node(data) # creates a node with data\n",
    "        curr=self.head # temporary var for  head\n",
    "        while curr.next!=None: # moving forward until end of node\n",
    "            curr=curr.next # changing current node to next node\n",
    "        curr.next=new_node # adding new node to end of LinkedList\n",
    "        print(\"node added\",curr.next.data)"
   ]
  },
  {
   "cell_type": "code",
   "execution_count": 1,
   "metadata": {},
   "outputs": [],
   "source": [
    "class Node:\n",
    "    def __init__(self,data=None):\n",
    "        self.data=data\n",
    "        self.next=None\n",
    "\n",
    "class LinkedList:\n",
    "    def __init__(self): # initiates when class object created\n",
    "        self.head=Node() \n",
    "\n",
    "    def append(self,data):\n",
    "        new_node=Node(data) # creates a node with data\n",
    "        curr=self.head # temporary var for  head\n",
    "        while curr.next!=None: # moving forward until end of node\n",
    "            curr=curr.next # changing current node to next node\n",
    "        curr.next=new_node # adding new node to end of LinkedList\n",
    "        print(\"node added\",curr.next.data)\n",
    "\n",
    "\n",
    "\n",
    "    def length(self):\n",
    "        curr=self.head\n",
    "        l=0 # counter for nodes\n",
    "        while curr.next!=None:\n",
    "            curr=curr.next\n",
    "            l+=1\n",
    "        return l\n",
    "    \n",
    "    def display(self):\n",
    "        curr=self.head\n",
    "        while curr.next!=None:\n",
    "            print(curr.data,\"-->\")\n",
    "            curr=curr.next\n",
    "        \n",
    "    "
   ]
  },
  {
   "cell_type": "code",
   "execution_count": null,
   "metadata": {},
   "outputs": [],
   "source": []
  }
 ],
 "metadata": {
  "kernelspec": {
   "display_name": "base",
   "language": "python",
   "name": "python3"
  },
  "language_info": {
   "codemirror_mode": {
    "name": "ipython",
    "version": 3
   },
   "file_extension": ".py",
   "mimetype": "text/x-python",
   "name": "python",
   "nbconvert_exporter": "python",
   "pygments_lexer": "ipython3",
   "version": "3.11.7"
  }
 },
 "nbformat": 4,
 "nbformat_minor": 2
}
