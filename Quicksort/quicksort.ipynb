{
 "cells": [
  {
   "cell_type": "code",
   "execution_count": 1,
   "metadata": {},
   "outputs": [
    {
     "name": "stdout",
     "output_type": "stream",
     "text": [
      "[11, 22, 33, 44, 55, 66, 77, 88]\n"
     ]
    }
   ],
   "source": [
    "def quicksort(arr,left,right):\n",
    "  if left<right:\n",
    "    partition_pos=partition(arr,left,right)\n",
    "    quicksort(arr,left,partition_pos-1)\n",
    "    quicksort(arr,partition_pos+1,right)\n",
    "    \n",
    "def partition(arr,left,right):\n",
    "  i=left\n",
    "  j=right-1\n",
    "  pivot=arr[right]\n",
    "  \n",
    "  while i<j:\n",
    "    while i<right and arr[i]<pivot:\n",
    "      i+=1\n",
    "    while j>left and arr[j]>pivot:\n",
    "      j-=1\n",
    "    if i<j:\n",
    "      arr[i],arr[j]=arr[j],arr[i]\n",
    "  if arr[i]>pivot:\n",
    "    arr[i],arr[right]=arr[right],arr[i]\n",
    "  return i \n",
    "arr=[22,11,88,66,55,77,33,44]    \n",
    "quicksort(arr,0,7)\n",
    "print(arr)"
   ]
  },
  {
   "cell_type": "code",
   "execution_count": null,
   "metadata": {},
   "outputs": [],
   "source": []
  }
 ],
 "metadata": {
  "kernelspec": {
   "display_name": "Python 3",
   "language": "python",
   "name": "python3"
  },
  "language_info": {
   "codemirror_mode": {
    "name": "ipython",
    "version": 3
   },
   "file_extension": ".py",
   "mimetype": "text/x-python",
   "name": "python",
   "nbconvert_exporter": "python",
   "pygments_lexer": "ipython3",
   "version": "3.12.8"
  }
 },
 "nbformat": 4,
 "nbformat_minor": 2
}
