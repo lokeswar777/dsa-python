{
 "cells": [
  {
   "cell_type": "code",
   "execution_count": 6,
   "metadata": {},
   "outputs": [
    {
     "name": "stdout",
     "output_type": "stream",
     "text": [
      "True\n",
      "True\n"
     ]
    },
    {
     "ename": "",
     "evalue": "",
     "output_type": "error",
     "traceback": [
      "\u001b[1;31mThe Kernel crashed while executing code in the current cell or a previous cell. \n",
      "\u001b[1;31mPlease review the code in the cell(s) to identify a possible cause of the failure. \n",
      "\u001b[1;31mClick <a href='https://aka.ms/vscodeJupyterKernelCrash'>here</a> for more info. \n",
      "\u001b[1;31mView Jupyter <a href='command:jupyter.viewOutput'>log</a> for further details."
     ]
    }
   ],
   "source": [
    "class Stack:\n",
    "    def __init__(self):\n",
    "        self.stack = []\n",
    "    \n",
    "    def push(self,value):\n",
    "        self.stack.append(value)\n",
    "\n",
    "    #def is_empty(self):\n",
    "     #   return len(self.stack) == 0\n",
    "    \n",
    "    def pop(self): \n",
    "        if len(self.stack) == 0:\n",
    "            return None\n",
    "        return self.stack.pop()\n",
    "    def peek(self):\n",
    "        if len(self.stack) == 0:\n",
    "            return None\n",
    "        return self.stack[-1]\n",
    "    def size(self):\n",
    "        return len(self.stack)\n",
    "    def is_empty(self):\n",
    "        return len(self.stack) == 0\n",
    "    def __str__(self):\n",
    "        return str(self.stack)\n",
    "    def __repr__(self): \n",
    "        return str(self.stack)\n",
    "        \n",
    "    def is_balanced(self,s):\n",
    "        stack = Stack()\n",
    "        for i in s:\n",
    "            if i == \"(\":\n",
    "                stack.push(i)\n",
    "            else:\n",
    "                if stack.is_empty():\n",
    "                    return False\n",
    "                stack.pop()\n",
    "        return stack.is_empty()\n",
    "    \n",
    "s=Stack()\n",
    "print(s.is_balanced(\"()\"))\n",
    "print(s.is_balanced(\"()()\"))"
   ]
  },
  {
   "cell_type": "code",
   "execution_count": null,
   "metadata": {},
   "outputs": [],
   "source": [
    "\n"
   ]
  }
 ],
 "metadata": {
  "kernelspec": {
   "display_name": "base",
   "language": "python",
   "name": "python3"
  },
  "language_info": {
   "codemirror_mode": {
    "name": "ipython",
    "version": 3
   },
   "file_extension": ".py",
   "mimetype": "text/x-python",
   "name": "python",
   "nbconvert_exporter": "python",
   "pygments_lexer": "ipython3",
   "version": "3.11.7"
  }
 },
 "nbformat": 4,
 "nbformat_minor": 2
}
