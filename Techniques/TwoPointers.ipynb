{
 "cells": [
  {
   "cell_type": "markdown",
   "metadata": {},
   "source": [
    "# LeetCode 167 \n"
   ]
  },
  {
   "cell_type": "markdown",
   "metadata": {},
   "source": [
    "## pattern 1 one pointer at starting and other at end"
   ]
  },
  {
   "cell_type": "markdown",
   "metadata": {},
   "source": [
    "### Two Sum II"
   ]
  },
  {
   "cell_type": "markdown",
   "metadata": {},
   "source": [
    "#### 3ms code"
   ]
  },
  {
   "cell_type": "code",
   "execution_count": null,
   "metadata": {},
   "outputs": [],
   "source": [
    "class TwoPointer:\n",
    "    def twosumII(self,numbers:List[int],target:int)->List[int]:\n",
    "        left=0 # left pointet at starting of the list\n",
    "        right=len(numbers)-1 # right pointer at the end of the list\n",
    "\n",
    "        while left<right: # till the left pointer and right pointer meet\n",
    "            sum=numbers[left]+numbers[right]\n",
    "            if sum==target:\n",
    "                return [left+1,right+1]\n",
    "            elif sum<target:\n",
    "                left+=1 # if the sum is less than target then move the left pointer to right\n",
    "            else:\n",
    "                right-=1 # if the sum is greater than target then move the right pointer to left\n",
    "        return [-1,-1] # if no such pair is found then return [-1,-1]\n",
    "    \n"
   ]
  },
  {
   "cell_type": "markdown",
   "metadata": {},
   "source": [
    "#### 0ms code"
   ]
  },
  {
   "cell_type": "code",
   "execution_count": null,
   "metadata": {},
   "outputs": [],
   "source": [
    "class TwoPointer:\n",
    "    def twosumII(self,numbers:List[int],target:int)->List[int]:\n",
    "        i = 0\n",
    "        j = len(numbers) -1 \n",
    "        while i <j:\n",
    "            if numbers[i] + numbers[j] < target:\n",
    "                i += 1\n",
    "            elif numbers[i] + numbers[j] > target:\n",
    "                j -= 1\n",
    "            else:\n",
    "                lst = [i+1, j+1]\n",
    "                break\n",
    "        return lst\n"
   ]
  },
  {
   "cell_type": "markdown",
   "metadata": {},
   "source": [
    "## Pattern 2 : Both points at beginning"
   ]
  },
  {
   "cell_type": "markdown",
   "metadata": {},
   "source": [
    "## Moving Zeros - 283 (leetcode)"
   ]
  },
  {
   "cell_type": "markdown",
   "metadata": {},
   "source": [
    "Given an integer array nums, move all 0's to the end of it while maintaining the relative order of the non-zero elements.\n",
    "\n",
    "Note that you must do this in-place without making a copy of the array.\n",
    "\n",
    " \n",
    "\n",
    "Example 1:\n",
    "\n",
    "Input: nums = [0,1,0,3,12]\n",
    "Output: [1,3,12,0,0]\n",
    "Example 2:\n",
    "\n",
    "Input: nums = [0]\n",
    "Output: [0]"
   ]
  },
  {
   "cell_type": "code",
   "execution_count": null,
   "metadata": {},
   "outputs": [],
   "source": [
    "class Solution:\n",
    "    def moveZeroes(self, nums: List[int]) -> None:\n",
    "        \"\"\"\n",
    "        Do not return anything, modify nums in-place instead.\n",
    "        \"\"\"\n",
    "        left=0\n",
    "        for i in range(len(nums)):\n",
    "            if nums[i]!=0:\n",
    "                nums[i],nums[left]=nums[left],nums[i]\n",
    "                left+=1\n",
    "        "
   ]
  }
 ],
 "metadata": {
  "kernelspec": {
   "display_name": "Python 3",
   "language": "python",
   "name": "python3"
  },
  "language_info": {
   "name": "python",
   "version": "3.12.8"
  }
 },
 "nbformat": 4,
 "nbformat_minor": 2
}
