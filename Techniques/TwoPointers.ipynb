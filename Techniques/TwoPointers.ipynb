{
 "cells": [
  {
   "cell_type": "markdown",
   "metadata": {},
   "source": [
    "# LeetCode 167 \n",
    "### Two Sum II"
   ]
  },
  {
   "cell_type": "code",
   "execution_count": null,
   "metadata": {},
   "outputs": [],
   "source": [
    "class TwoPointer:\n",
    "    def twosumII(self,numbers:List[int],target:int)->List[int]:\n",
    "        left=0 # left pointet at starting of the list\n",
    "        right=len(numbers)-1 # right pointer at the end of the list\n",
    "\n",
    "        while left<right: # till the left pointer and right pointer meet\n",
    "            if numbers[left]+numbers[right]==target:\n",
    "                return [left+1,right+1]\n"
   ]
  }
 ],
 "metadata": {
  "kernelspec": {
   "display_name": "Python 3",
   "language": "python",
   "name": "python3"
  },
  "language_info": {
   "name": "python",
   "version": "3.12.8"
  }
 },
 "nbformat": 4,
 "nbformat_minor": 2
}
